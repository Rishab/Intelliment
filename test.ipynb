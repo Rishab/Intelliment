{
 "cells": [
  {
   "cell_type": "code",
   "execution_count": 69,
   "metadata": {},
   "outputs": [],
   "source": [
    "import numpy as np\n",
    "import pandas as pd\n",
    "import matplotlib.pyplot as plt\n",
    "%matplotlib inline\n",
    "import seaborn as sns\n",
    "import plotly.plotly as py\n",
    "import plotly.graph_objs as go"
   ]
  },
  {
   "cell_type": "code",
   "execution_count": 17,
   "metadata": {},
   "outputs": [],
   "source": [
    "df = pd.read_excel('sentigrade.xlsx').sort_values(by='Second', ascending=True)"
   ]
  },
  {
   "cell_type": "code",
   "execution_count": 18,
   "metadata": {
    "collapsed": true
   },
   "outputs": [],
   "source": [
    "blah = df.groupby('Emotion')"
   ]
  },
  {
   "cell_type": "code",
   "execution_count": 19,
   "metadata": {},
   "outputs": [
    {
     "data": {
      "text/html": [
       "<div>\n",
       "<style scoped>\n",
       "    .dataframe tbody tr th:only-of-type {\n",
       "        vertical-align: middle;\n",
       "    }\n",
       "\n",
       "    .dataframe tbody tr th {\n",
       "        vertical-align: top;\n",
       "    }\n",
       "\n",
       "    .dataframe thead th {\n",
       "        text-align: right;\n",
       "    }\n",
       "</style>\n",
       "<table border=\"1\" class=\"dataframe\">\n",
       "  <thead>\n",
       "    <tr style=\"text-align: right;\">\n",
       "      <th></th>\n",
       "      <th>Second</th>\n",
       "      <th>Image</th>\n",
       "      <th>Emotion</th>\n",
       "      <th>Confidence</th>\n",
       "    </tr>\n",
       "  </thead>\n",
       "  <tbody>\n",
       "    <tr>\n",
       "      <th>35</th>\n",
       "      <td>0</td>\n",
       "      <td>0.jpg</td>\n",
       "      <td>CALM</td>\n",
       "      <td>83.904465</td>\n",
       "    </tr>\n",
       "    <tr>\n",
       "      <th>34</th>\n",
       "      <td>1</td>\n",
       "      <td>1.jpg</td>\n",
       "      <td>CALM</td>\n",
       "      <td>75.876083</td>\n",
       "    </tr>\n",
       "    <tr>\n",
       "      <th>32</th>\n",
       "      <td>2</td>\n",
       "      <td>2.jpg</td>\n",
       "      <td>CALM</td>\n",
       "      <td>84.693291</td>\n",
       "    </tr>\n",
       "    <tr>\n",
       "      <th>33</th>\n",
       "      <td>3</td>\n",
       "      <td>3.jpg</td>\n",
       "      <td>CALM</td>\n",
       "      <td>65.980484</td>\n",
       "    </tr>\n",
       "    <tr>\n",
       "      <th>28</th>\n",
       "      <td>4</td>\n",
       "      <td>4.jpg</td>\n",
       "      <td>CALM</td>\n",
       "      <td>52.587364</td>\n",
       "    </tr>\n",
       "    <tr>\n",
       "      <th>29</th>\n",
       "      <td>5</td>\n",
       "      <td>5.jpg</td>\n",
       "      <td>SAD</td>\n",
       "      <td>99.142601</td>\n",
       "    </tr>\n",
       "    <tr>\n",
       "      <th>31</th>\n",
       "      <td>6</td>\n",
       "      <td>6.jpg</td>\n",
       "      <td>CALM</td>\n",
       "      <td>84.646370</td>\n",
       "    </tr>\n",
       "    <tr>\n",
       "      <th>30</th>\n",
       "      <td>7</td>\n",
       "      <td>7.jpg</td>\n",
       "      <td>SAD</td>\n",
       "      <td>69.719940</td>\n",
       "    </tr>\n",
       "    <tr>\n",
       "      <th>0</th>\n",
       "      <td>8</td>\n",
       "      <td>8.jpg</td>\n",
       "      <td>CALM</td>\n",
       "      <td>72.301743</td>\n",
       "    </tr>\n",
       "    <tr>\n",
       "      <th>1</th>\n",
       "      <td>9</td>\n",
       "      <td>9.jpg</td>\n",
       "      <td>CALM</td>\n",
       "      <td>88.286415</td>\n",
       "    </tr>\n",
       "    <tr>\n",
       "      <th>11</th>\n",
       "      <td>10</td>\n",
       "      <td>10.jpg</td>\n",
       "      <td>CALM</td>\n",
       "      <td>79.182968</td>\n",
       "    </tr>\n",
       "    <tr>\n",
       "      <th>10</th>\n",
       "      <td>11</td>\n",
       "      <td>11.jpg</td>\n",
       "      <td>CALM</td>\n",
       "      <td>84.176849</td>\n",
       "    </tr>\n",
       "    <tr>\n",
       "      <th>8</th>\n",
       "      <td>12</td>\n",
       "      <td>12.jpg</td>\n",
       "      <td>CALM</td>\n",
       "      <td>82.360382</td>\n",
       "    </tr>\n",
       "    <tr>\n",
       "      <th>9</th>\n",
       "      <td>13</td>\n",
       "      <td>13.jpg</td>\n",
       "      <td>CALM</td>\n",
       "      <td>54.162277</td>\n",
       "    </tr>\n",
       "    <tr>\n",
       "      <th>2</th>\n",
       "      <td>14</td>\n",
       "      <td>14.jpg</td>\n",
       "      <td>HAPPY</td>\n",
       "      <td>83.243301</td>\n",
       "    </tr>\n",
       "    <tr>\n",
       "      <th>5</th>\n",
       "      <td>15</td>\n",
       "      <td>15.jpg</td>\n",
       "      <td>HAPPY</td>\n",
       "      <td>86.291908</td>\n",
       "    </tr>\n",
       "    <tr>\n",
       "      <th>7</th>\n",
       "      <td>16</td>\n",
       "      <td>16.jpg</td>\n",
       "      <td>HAPPY</td>\n",
       "      <td>92.430054</td>\n",
       "    </tr>\n",
       "    <tr>\n",
       "      <th>6</th>\n",
       "      <td>17</td>\n",
       "      <td>17.jpg</td>\n",
       "      <td>HAPPY</td>\n",
       "      <td>95.436249</td>\n",
       "    </tr>\n",
       "    <tr>\n",
       "      <th>22</th>\n",
       "      <td>18</td>\n",
       "      <td>18.jpg</td>\n",
       "      <td>HAPPY</td>\n",
       "      <td>97.697769</td>\n",
       "    </tr>\n",
       "    <tr>\n",
       "      <th>27</th>\n",
       "      <td>19</td>\n",
       "      <td>19.jpg</td>\n",
       "      <td>HAPPY</td>\n",
       "      <td>95.848724</td>\n",
       "    </tr>\n",
       "    <tr>\n",
       "      <th>15</th>\n",
       "      <td>20</td>\n",
       "      <td>20.jpg</td>\n",
       "      <td>HAPPY</td>\n",
       "      <td>96.024361</td>\n",
       "    </tr>\n",
       "    <tr>\n",
       "      <th>12</th>\n",
       "      <td>21</td>\n",
       "      <td>21.jpg</td>\n",
       "      <td>HAPPY</td>\n",
       "      <td>99.531532</td>\n",
       "    </tr>\n",
       "    <tr>\n",
       "      <th>16</th>\n",
       "      <td>22</td>\n",
       "      <td>22.jpg</td>\n",
       "      <td>HAPPY</td>\n",
       "      <td>99.399391</td>\n",
       "    </tr>\n",
       "    <tr>\n",
       "      <th>17</th>\n",
       "      <td>23</td>\n",
       "      <td>23.jpg</td>\n",
       "      <td>HAPPY</td>\n",
       "      <td>99.516724</td>\n",
       "    </tr>\n",
       "    <tr>\n",
       "      <th>23</th>\n",
       "      <td>24</td>\n",
       "      <td>24.jpg</td>\n",
       "      <td>HAPPY</td>\n",
       "      <td>99.332466</td>\n",
       "    </tr>\n",
       "    <tr>\n",
       "      <th>26</th>\n",
       "      <td>25</td>\n",
       "      <td>25.jpg</td>\n",
       "      <td>HAPPY</td>\n",
       "      <td>99.144989</td>\n",
       "    </tr>\n",
       "    <tr>\n",
       "      <th>20</th>\n",
       "      <td>26</td>\n",
       "      <td>26.jpg</td>\n",
       "      <td>CALM</td>\n",
       "      <td>94.567902</td>\n",
       "    </tr>\n",
       "    <tr>\n",
       "      <th>19</th>\n",
       "      <td>27</td>\n",
       "      <td>27.jpg</td>\n",
       "      <td>CALM</td>\n",
       "      <td>84.707954</td>\n",
       "    </tr>\n",
       "    <tr>\n",
       "      <th>3</th>\n",
       "      <td>28</td>\n",
       "      <td>28.jpg</td>\n",
       "      <td>CALM</td>\n",
       "      <td>83.915871</td>\n",
       "    </tr>\n",
       "    <tr>\n",
       "      <th>4</th>\n",
       "      <td>29</td>\n",
       "      <td>29.jpg</td>\n",
       "      <td>CALM</td>\n",
       "      <td>88.192047</td>\n",
       "    </tr>\n",
       "    <tr>\n",
       "      <th>24</th>\n",
       "      <td>30</td>\n",
       "      <td>30.jpg</td>\n",
       "      <td>CALM</td>\n",
       "      <td>72.608742</td>\n",
       "    </tr>\n",
       "    <tr>\n",
       "      <th>25</th>\n",
       "      <td>31</td>\n",
       "      <td>31.jpg</td>\n",
       "      <td>CALM</td>\n",
       "      <td>77.187439</td>\n",
       "    </tr>\n",
       "    <tr>\n",
       "      <th>21</th>\n",
       "      <td>32</td>\n",
       "      <td>32.jpg</td>\n",
       "      <td>ANGRY</td>\n",
       "      <td>91.759781</td>\n",
       "    </tr>\n",
       "    <tr>\n",
       "      <th>18</th>\n",
       "      <td>33</td>\n",
       "      <td>33.jpg</td>\n",
       "      <td>ANGRY</td>\n",
       "      <td>92.394508</td>\n",
       "    </tr>\n",
       "    <tr>\n",
       "      <th>14</th>\n",
       "      <td>34</td>\n",
       "      <td>34.jpg</td>\n",
       "      <td>CONFUSED</td>\n",
       "      <td>74.574921</td>\n",
       "    </tr>\n",
       "    <tr>\n",
       "      <th>13</th>\n",
       "      <td>35</td>\n",
       "      <td>35.jpg</td>\n",
       "      <td>ANGRY</td>\n",
       "      <td>58.742065</td>\n",
       "    </tr>\n",
       "  </tbody>\n",
       "</table>\n",
       "</div>"
      ],
      "text/plain": [
       "    Second   Image   Emotion  Confidence\n",
       "35       0   0.jpg      CALM   83.904465\n",
       "34       1   1.jpg      CALM   75.876083\n",
       "32       2   2.jpg      CALM   84.693291\n",
       "33       3   3.jpg      CALM   65.980484\n",
       "28       4   4.jpg      CALM   52.587364\n",
       "29       5   5.jpg       SAD   99.142601\n",
       "31       6   6.jpg      CALM   84.646370\n",
       "30       7   7.jpg       SAD   69.719940\n",
       "0        8   8.jpg      CALM   72.301743\n",
       "1        9   9.jpg      CALM   88.286415\n",
       "11      10  10.jpg      CALM   79.182968\n",
       "10      11  11.jpg      CALM   84.176849\n",
       "8       12  12.jpg      CALM   82.360382\n",
       "9       13  13.jpg      CALM   54.162277\n",
       "2       14  14.jpg     HAPPY   83.243301\n",
       "5       15  15.jpg     HAPPY   86.291908\n",
       "7       16  16.jpg     HAPPY   92.430054\n",
       "6       17  17.jpg     HAPPY   95.436249\n",
       "22      18  18.jpg     HAPPY   97.697769\n",
       "27      19  19.jpg     HAPPY   95.848724\n",
       "15      20  20.jpg     HAPPY   96.024361\n",
       "12      21  21.jpg     HAPPY   99.531532\n",
       "16      22  22.jpg     HAPPY   99.399391\n",
       "17      23  23.jpg     HAPPY   99.516724\n",
       "23      24  24.jpg     HAPPY   99.332466\n",
       "26      25  25.jpg     HAPPY   99.144989\n",
       "20      26  26.jpg      CALM   94.567902\n",
       "19      27  27.jpg      CALM   84.707954\n",
       "3       28  28.jpg      CALM   83.915871\n",
       "4       29  29.jpg      CALM   88.192047\n",
       "24      30  30.jpg      CALM   72.608742\n",
       "25      31  31.jpg      CALM   77.187439\n",
       "21      32  32.jpg     ANGRY   91.759781\n",
       "18      33  33.jpg     ANGRY   92.394508\n",
       "14      34  34.jpg  CONFUSED   74.574921\n",
       "13      35  35.jpg     ANGRY   58.742065"
      ]
     },
     "execution_count": 19,
     "metadata": {},
     "output_type": "execute_result"
    }
   ],
   "source": [
    "df"
   ]
  },
  {
   "cell_type": "code",
   "execution_count": 75,
   "metadata": {},
   "outputs": [
    {
     "data": {
      "text/plain": [
       "2     14\n",
       "5     15\n",
       "7     16\n",
       "6     17\n",
       "22    18\n",
       "27    19\n",
       "15    20\n",
       "12    21\n",
       "16    22\n",
       "17    23\n",
       "23    24\n",
       "26    25\n",
       "Name: Second, dtype: int64"
      ]
     },
     "execution_count": 75,
     "metadata": {},
     "output_type": "execute_result"
    }
   ],
   "source": [
    "happy_conf = df[df['Emotion'] == 'HAPPY']['Confidence']\n",
    "happy_sec = df[df['Emotion'] == 'HAPPY']['Second']\n",
    "happy_sec"
   ]
  },
  {
   "cell_type": "code",
   "execution_count": 25,
   "metadata": {},
   "outputs": [
    {
     "data": {
      "text/plain": [
       "36"
      ]
     },
     "execution_count": 25,
     "metadata": {},
     "output_type": "execute_result"
    }
   ],
   "source": [
    "df.count()['Second']"
   ]
  },
  {
   "cell_type": "code",
   "execution_count": 65,
   "metadata": {},
   "outputs": [
    {
     "data": {
      "image/png": "[encoded data removed]",
      "text/plain": [
       "<Figure size 432x288 with 1 Axes>"
      ]
     },
     "metadata": {},
     "output_type": "display_data"
    },
    {
     "data": {
      "text/plain": [
       "<Figure size 1152x648 with 0 Axes>"
      ]
     },
     "metadata": {},
     "output_type": "display_data"
    }
   ],
   "source": [
    "happy.plot(kind='scatter',x='Second',y='Confidence',color='red')\n",
    "plt.xlim([0, df.count()['Second']])\n",
    "plt.figure(figsize=(16,9)) \n",
    "plt.show()"
   ]
  },
  {
   "cell_type": "code",
   "execution_count": 70,
   "metadata": {},
   "outputs": [
    {
     "ename": "NameError",
     "evalue": "name 'random_x' is not defined",
     "output_type": "error",
     "traceback": [
      "\u001b[0;31m---------------------------------------------------------------------------\u001b[0m",
      "\u001b[0;31mNameError\u001b[0m                                 Traceback (most recent call last)",
      "\u001b[0;32m<ipython-input-70-04597367d9d1>\u001b[0m in \u001b[0;36m<module>\u001b[0;34m()\u001b[0m\n\u001b[1;32m      1\u001b[0m go.Scatter(\n\u001b[0;32m----> 2\u001b[0;31m     \u001b[0mx\u001b[0m \u001b[0;34m=\u001b[0m \u001b[0mrandom_x\u001b[0m\u001b[0;34m,\u001b[0m\u001b[0;34m\u001b[0m\u001b[0m\n\u001b[0m\u001b[1;32m      3\u001b[0m     \u001b[0my\u001b[0m \u001b[0;34m=\u001b[0m \u001b[0mrandom_y\u001b[0m\u001b[0;34m,\u001b[0m\u001b[0;34m\u001b[0m\u001b[0m\n\u001b[1;32m      4\u001b[0m     \u001b[0mmode\u001b[0m \u001b[0;34m=\u001b[0m \u001b[0;34m'markers'\u001b[0m\u001b[0;34m\u001b[0m\u001b[0m\n\u001b[1;32m      5\u001b[0m )\n",
      "\u001b[0;31mNameError\u001b[0m: name 'random_x' is not defined"
     ]
    }
   ],
   "source": []
  },
  {
   "cell_type": "code",
   "execution_count": 77,
   "metadata": {},
   "outputs": [
    {
     "name": "stdout",
     "output_type": "stream",
     "text": [
      "Aw, snap! We didn't get a username with your request.\n",
      "\n",
      "Don't have an account? https://plot.ly/api_signup\n",
      "\n",
      "Questions? accounts@plot.ly\n"
     ]
    }
   ],
   "source": [
    "fig = {\n",
    "    'data': [\n",
    "        {\n",
    "            'x': happy_sec,\n",
    "            'y': happy_conf,\n",
    "            \n",
    "        }\n",
    "    ],\n",
    "    'layout': {\n",
    "        'xaxis': {'title': 'GDP per Capita', 'type': 'log'},\n",
    "        'yaxis': {'title': \"Life Expectancy\"}\n",
    "    }\n",
    "}\n",
    "\n",
    "# IPython notebook\n",
    "# py.iplot(fig, filename='pandas/grouped-scatter')\n",
    "\n",
    "url = py.plot(fig, filename='pandas/grouped-scatter')"
   ]
  },
  {
   "cell_type": "code",
   "execution_count": 79,
   "metadata": {},
   "outputs": [
    {
     "data": {
      "image/png": "[encoded data removed]",
      "text/plain": [
       "<Figure size 432x288 with 1 Axes>"
      ]
     },
     "metadata": {},
     "output_type": "display_data"
    }
   ],
   "source": [
    "import numpy as np\n",
    "import matplotlib.pyplot as plt\n",
    "\n",
    "fig = plt.figure()\n",
    "ax = fig.add_subplot(111)\n",
    "ax.set_title('click on points')\n",
    "\n",
    "line, = ax.plot(np.random.rand(100), 'o', picker=5)  # 5 points tolerance\n",
    "\n",
    "def onpick(event):\n",
    "    thisline = event.artist\n",
    "    xdata = thisline.get_xdata()\n",
    "    ydata = thisline.get_ydata()\n",
    "    ind = event.ind\n",
    "    points = tuple(zip(xdata[ind], ydata[ind]))\n",
    "    print('onpick points:', points)\n",
    "\n",
    "fig.canvas.mpl_connect('pick_event', onpick)\n",
    "\n",
    "plt.show()"
   ]
  },
  {
   "cell_type": "code",
   "execution_count": null,
   "metadata": {
    "collapsed": true
   },
   "outputs": [],
   "source": []
  }
 ],
 "metadata": {
  "kernelspec": {
   "display_name": "Python 3",
   "language": "python",
   "name": "python3"
  },
  "language_info": {
   "codemirror_mode": {
    "name": "ipython",
    "version": 3
   },
   "file_extension": ".py",
   "mimetype": "text/x-python",
   "name": "python",
   "nbconvert_exporter": "python",
   "pygments_lexer": "ipython3",
   "version": "3.6.3"
  }
 },
 "nbformat": 4,
 "nbformat_minor": 2
}
